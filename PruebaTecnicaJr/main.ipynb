{
 "cells": [
  {
   "attachments": {},
   "cell_type": "markdown",
   "metadata": {},
   "source": [
    "## Prueba 1: Escriba un programa que determine si un año dado es un año bisiesto. Un año normal tiene 365 días, los años bisiestos tienen 366, con un día extra en febrero.\n",
    "\n",
    "Tips: Así es como se determina si un año en particular es un año bisiesto.\n",
    "En cada año que es divisible por 4\n",
    "**excepto** cada año que es divisible por 100\n",
    "**a menos que** el año también sea divisible por 400\n",
    "p.ej. El año 2000:\n",
    "2000 ÷ 4 = 500 (Bisiesto)\n",
    "2000 ÷ 100 = 20 (no bisiesto)\n",
    "2000 ÷ 400 = 5 (¡Bisiesto!)\n",
    "Así que el año 2000 es un año bisiesto.\n",
    "Pero el año 2100 no es un año bisiesto porque:\n",
    "2100 ÷ 4 = 525 (Bisiesto)\n",
    "2100 ÷ 100 = 21 (no bisiesto)\n",
    "2100 ÷ 400 = 5,25 (no bisiesto)"
   ]
  },
  {
   "cell_type": "code",
   "execution_count": 1,
   "metadata": {},
   "outputs": [
    {
     "name": "stdout",
     "output_type": "stream",
     "text": [
      "is leap-year\n"
     ]
    }
   ],
   "source": [
    "# Escribe tu solución aquí.#funtion that returns if a year is a leap year\n",
    "def Is_leap_year(year):\n",
    "    if (year%4 == 0) and (year%100 != 0 or year%400 == 0):\n",
    "        return True \n",
    "    else:\n",
    "        return False\n",
    "try:\n",
    "    #ask for number\n",
    "    x = int(input(\"Please enter a year: \"))\n",
    "\n",
    "    if Is_leap_year(x) == True:\n",
    "        print(\"is leap-year\")\n",
    "    else:\n",
    "        print('Is not leap-year')\n",
    "\n",
    "except ValueError:\n",
    "    print(\"Oops!  That was no valid number. Try again...\")"
   ]
  },
  {
   "attachments": {},
   "cell_type": "markdown",
   "metadata": {},
   "source": [
    "## Prueba 2: Manejo de archivos JSON."
   ]
  },
  {
   "attachments": {},
   "cell_type": "markdown",
   "metadata": {},
   "source": [
    "2.1: Imprima el objeto Json en el formato correcto en la salida de la celda."
   ]
  },
  {
   "cell_type": "code",
   "execution_count": 2,
   "metadata": {},
   "outputs": [
    {
     "name": "stdout",
     "output_type": "stream",
     "text": [
      "{\n",
      "    \"Company\": \"Rocketters Example\",\n",
      "    \"HiringCompany\": \"Rocketters HiringCompany\",\n",
      "    \"Departments\": [\n",
      "        \"Logistics\",\n",
      "        \"Sales\",\n",
      "        \"Marketing\",\n",
      "        \"Accounting\",\n",
      "        \"Finance\",\n",
      "        \"Graphic Design\",\n",
      "        \"Human Resources\",\n",
      "        \"Business Intelligence\"\n",
      "    ],\n",
      "    \"OpenPositions\": [\n",
      "        {\n",
      "            \"Position\": \"Warehouse Manager\",\n",
      "            \"Department\": \"Logistics\",\n",
      "            \"Location\": \"Principal Warehouse\",\n",
      "            \"RequestedBy\": \"Logistics Manager\"\n",
      "        },\n",
      "        {\n",
      "            \"Position\": \"Telesales Representative\",\n",
      "            \"Department\": \"Sales\",\n",
      "            \"Location\": \"Main Call Center\",\n",
      "            \"RequestedBy\": \"Sales Manager\"\n",
      "        },\n",
      "        {\n",
      "            \"Position\": \"Marketing Analyst\",\n",
      "            \"Department\": \"Marketing\",\n",
      "            \"Location\": \"Central Office\",\n",
      "            \"RequestedBy\": \"Marketing Chief\"\n",
      "        },\n",
      "        {\n",
      "            \"Position\": \"Datawarehouse Admin\",\n",
      "            \"Department\": \"BusinessIntelligence\",\n",
      "            \"Location\": \"Central Office\",\n",
      "            \"RequestedBy\": \"Business Intelligence Specialist\"\n",
      "        },\n",
      "        {\n",
      "            \"Position\": \"Business Analyst\",\n",
      "            \"Department\": \"BusinessIntelligence\",\n",
      "            \"Location\": \"Central Office\",\n",
      "            \"RequestedBy\": \"Business Intelligence Chief\"\n",
      "        },\n",
      "        {\n",
      "            \"Position\": \"Python Developer\",\n",
      "            \"Department\": \"Business Intelligence\",\n",
      "            \"Location\": \"Avante\",\n",
      "            \"RequestedBy\": \"COO\"\n",
      "        }\n",
      "    ]\n",
      "}\n"
     ]
    }
   ],
   "source": [
    "#import module to use json\n",
    "import json\n",
    "\n",
    "def read_json(location_data):\n",
    "    #open file\n",
    "    with open(location_data) as data:\n",
    "        result = json.load(data)\n",
    "        #applying the correct format\n",
    "        print(json.dumps(result, indent=4))\n",
    "\n",
    "location = 'PythonDevTestJson.json'\n",
    "\n",
    "try:\n",
    "    read_json(location)\n",
    "except ValueError:\n",
    "    print(\"Oops! an error has occurred. Try again...\")"
   ]
  },
  {
   "cell_type": "markdown",
   "metadata": {},
   "source": []
  },
  {
   "attachments": {},
   "cell_type": "markdown",
   "metadata": {},
   "source": [
    "2.2: Obtenga el último objeto anidado dentro de la llave \"OpenPositions\"."
   ]
  },
  {
   "cell_type": "code",
   "execution_count": 3,
   "metadata": {},
   "outputs": [
    {
     "name": "stdout",
     "output_type": "stream",
     "text": [
      "{\n",
      "    \"Position\": \"Python Developer\",\n",
      "    \"Department\": \"Business Intelligence\",\n",
      "    \"Location\": \"Avante\",\n",
      "    \"RequestedBy\": \"COO\"\n",
      "}\n"
     ]
    }
   ],
   "source": [
    "import json\n",
    "\n",
    "def read_json(location_data):\n",
    "    #open file\n",
    "    with open(location_data) as data:\n",
    "        result = json.load(data)\n",
    "        return result\n",
    "\n",
    "location = 'PythonDevTestJson.json'\n",
    "#name of directory\n",
    "directory = 'OpenPositions'\n",
    "\n",
    "try:\n",
    "    data = read_json(location)\n",
    "    #on OpenPositions and last object\n",
    "    last_object = data[directory][-1]\n",
    "    print(json.dumps(last_object, indent=4))\n",
    "\n",
    "except ValueError:\n",
    "    print(\"Oops! an error has occurred. Try again...\")"
   ]
  },
  {
   "attachments": {},
   "cell_type": "markdown",
   "metadata": {},
   "source": [
    "2.3: Cree una nueva llave llamada \"Relevance\" y agregue un valor de acuerdo con una regla lógica simple. en caso de que el\n",
    "La persona en la clave \"RequestedBy\" es un ejecutivo de nivel C (CFO, CEO o comienza con C.) asigne el\n",
    "valor de “Important”, de lo contrario asigne “Normal”."
   ]
  },
  {
   "cell_type": "code",
   "execution_count": 4,
   "metadata": {},
   "outputs": [
    {
     "name": "stdout",
     "output_type": "stream",
     "text": [
      "{\n",
      "    \"Position\": \"Warehouse Manager\",\n",
      "    \"Department\": \"Logistics\",\n",
      "    \"Location\": \"Principal Warehouse\",\n",
      "    \"RequestedBy\": \"Logistics Manager\",\n",
      "    \"Relevance\": \"Normal\"\n",
      "}\n",
      "{\n",
      "    \"Position\": \"Telesales Representative\",\n",
      "    \"Department\": \"Sales\",\n",
      "    \"Location\": \"Main Call Center\",\n",
      "    \"RequestedBy\": \"Sales Manager\",\n",
      "    \"Relevance\": \"Normal\"\n",
      "}\n",
      "{\n",
      "    \"Position\": \"Marketing Analyst\",\n",
      "    \"Department\": \"Marketing\",\n",
      "    \"Location\": \"Central Office\",\n",
      "    \"RequestedBy\": \"Marketing Chief\",\n",
      "    \"Relevance\": \"Normal\"\n",
      "}\n",
      "{\n",
      "    \"Position\": \"Datawarehouse Admin\",\n",
      "    \"Department\": \"BusinessIntelligence\",\n",
      "    \"Location\": \"Central Office\",\n",
      "    \"RequestedBy\": \"Business Intelligence Specialist\",\n",
      "    \"Relevance\": \"Normal\"\n",
      "}\n",
      "{\n",
      "    \"Position\": \"Business Analyst\",\n",
      "    \"Department\": \"BusinessIntelligence\",\n",
      "    \"Location\": \"Central Office\",\n",
      "    \"RequestedBy\": \"Business Intelligence Chief\",\n",
      "    \"Relevance\": \"Normal\"\n",
      "}\n",
      "{\n",
      "    \"Position\": \"Python Developer\",\n",
      "    \"Department\": \"Business Intelligence\",\n",
      "    \"Location\": \"Avante\",\n",
      "    \"RequestedBy\": \"COO\",\n",
      "    \"Relevance\": \"Important\"\n",
      "}\n"
     ]
    }
   ],
   "source": [
    "import json\n",
    "\n",
    "def read_json(location_data):\n",
    "    #open file\n",
    "    with open(location_data) as data:\n",
    "        result = json.load(data)\n",
    "        return result\n",
    "\n",
    "location = 'PythonDevTestJson.json'\n",
    "#name of directory\n",
    "directory = 'OpenPositions'\n",
    "key = 'RequestedBy'\n",
    "new_key = 'Relevance'\n",
    "\n",
    "try:\n",
    "    data = read_json(location)\n",
    "    #on OpenPositions and last object\n",
    "    for i in data[directory]:\n",
    "        if i[key]=='CFO' or i[key]=='CEO'or i[key].startswith('C')==True:\n",
    "            #add new key\n",
    "            i[new_key] = 'Important'\n",
    "            print(json.dumps(i, indent=4))\n",
    "        else:\n",
    "            #add new key\n",
    "            i[new_key] = 'Normal'\n",
    "            print(json.dumps(i, indent=4))\n",
    "\n",
    "except ValueError:\n",
    "    print(\"Oops! an error has occurred. Try again...\")"
   ]
  },
  {
   "attachments": {},
   "cell_type": "markdown",
   "metadata": {},
   "source": [
    "## Prueba 3:  Consume cualquier API (a tu discresión) y muestra ejemplos de como usar los métodos 'Get' y 'Post'. \n"
   ]
  },
  {
   "cell_type": "code",
   "execution_count": 5,
   "metadata": {},
   "outputs": [
    {
     "name": "stdout",
     "output_type": "stream",
     "text": [
      "{\n",
      "    \"userId\": 1,\n",
      "    \"id\": 1,\n",
      "    \"title\": \"sunt aut facere repellat provident occaecati excepturi optio reprehenderit\",\n",
      "    \"body\": \"quia et suscipit\\nsuscipit recusandae consequuntur expedita et cum\\nreprehenderit molestiae ut ut quas totam\\nnostrum rerum est autem sunt rem eveniet architecto\"\n",
      "}\n",
      "201\n",
      "request successful\n"
     ]
    }
   ],
   "source": [
    "#antes de usar recuerden instalar request (py -m pip install requests)\n",
    "#Para subirlo a github se prefirio no usar un venv (entorno aislado con las libreria instalada)\n",
    "import requests\n",
    "import json\n",
    "\n",
    "url_get = 'https://jsonplaceholder.typicode.com/posts/1'\n",
    "try:\n",
    "    #Get petition\n",
    "    res_get = requests.get(url_get)\n",
    "    data = res_get.json()\n",
    "    print(json.dumps(data, indent=4))\n",
    "\n",
    "except ValueError:\n",
    "    print(\"Oops! an error has occurred in get petition. Try again...\")\n",
    "\n",
    "url_post = 'https://jsonplaceholder.typicode.com/posts'\n",
    "try:\n",
    "    #Post petition\n",
    "    new_data = {\n",
    "        \"userId\": 1,\n",
    "        \"title\": \"Titulo de prueba\",\n",
    "        \"body\": \"Cuerpo de prueba\"\n",
    "    }\n",
    "    res_post = requests.post(url_post,data=new_data)\n",
    "    #201 CreatedEl código de respuesta de estado de éxito HTTP indica que la solicitud se realizó correctamente y condujo a la creación de un recurso.\n",
    "    print(res_post.status_code)\n",
    "    print('request successful')\n",
    "\n",
    "except ValueError:\n",
    "    print(\"Oops! an error has occurred in post petition. Try again...\")"
   ]
  }
 ],
 "metadata": {
  "kernelspec": {
   "display_name": "Python 3",
   "language": "python",
   "name": "python3"
  },
  "language_info": {
   "codemirror_mode": {
    "name": "ipython",
    "version": 3
   },
   "file_extension": ".py",
   "mimetype": "text/x-python",
   "name": "python",
   "nbconvert_exporter": "python",
   "pygments_lexer": "ipython3",
   "version": "3.11.1"
  },
  "orig_nbformat": 4,
  "vscode": {
   "interpreter": {
    "hash": "b92c64ddd97bd75b75879c676e53789d19cf25aafb287fcc8a3273f02b13a1d2"
   }
  }
 },
 "nbformat": 4,
 "nbformat_minor": 2
}
